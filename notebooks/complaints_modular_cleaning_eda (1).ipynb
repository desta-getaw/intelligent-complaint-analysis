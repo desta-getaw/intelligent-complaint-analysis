{
 "cells": [
  {
   "cell_type": "markdown",
   "id": "e2d4385e",
   "metadata": {},
   "source": [
    "# 📝 Complaint Data Cleaning & EDA (Modular Notebook)\n",
    "This notebook organizes the code into clean, reusable modules."
   ]
  },
  {
   "cell_type": "code",
   "execution_count": null,
   "id": "6c064d04",
   "metadata": {},
   "outputs": [],
   "source": [
    "# 📦 Imports & configuration\n",
    "import os\n",
    "import re\n",
    "import pandas as pd\n",
    "import matplotlib.pyplot as plt\n",
    "import seaborn as sns\n",
    "from pathlib import Path\n",
    "\n",
    "plt.style.use('seaborn')"
   ]
  },
  {
   "cell_type": "markdown",
   "id": "437755b3",
   "metadata": {},
   "source": [
    "## 🧹 Text cleaning module"
   ]
  },
  {
   "cell_type": "code",
   "execution_count": null,
   "id": "b913a15a",
   "metadata": {},
   "outputs": [],
   "source": [
    "def clean_text(text: str) -> str:\n",
    "    if not isinstance(text, str):\n",
    "        return \"\"\n",
    "    boilerplate = [\n",
    "        r'(i\\s?(am|have)\\s?(writing|filing|submitting).*complaint)',\n",
    "        r'(this\\s?(is|concerns).*complaint)',\n",
    "        r'(dear\\s.*(sir|madam|representative))',\n",
    "        r'(company\\s?(name)?\\s?:.*\\w+)',\n",
    "        r'(account\\s?(number|#)?\\s?:.*[\\w-]+)',\n",
    "        r'(date\\s?(of)?\\s?(incident|complaint).*[\\w/]+)',\n",
    "        r'(reference\\s?(number|id).*\\w+)',\n",
    "        r'(phone\\s?(number)?.*[\\d-]+)',\n",
    "        r'xx+',\n",
    "        r'(\\bsincerely\\b|\\bregards\\b)'\n",
    "    ]\n",
    "    text = text.lower()\n",
    "    text = re.sub(r'[^a-z0-9\\s.,!?$%]', '', text)\n",
    "    for pattern in boilerplate:\n",
    "        text = re.sub(pattern, '', text)\n",
    "    text = re.sub(r'\\b([a-z]{2,})\\b', lambda m: m.group(1).lower(), text)\n",
    "    text = re.sub(r'\\s+', ' ', text).strip()\n",
    "    return text"
   ]
  },
  {
   "cell_type": "markdown",
   "id": "1e24f1aa",
   "metadata": {},
   "source": [
    "## 🎯 Product filtering module"
   ]
  },
  {
   "cell_type": "code",
   "execution_count": null,
   "id": "e765984d",
   "metadata": {},
   "outputs": [],
   "source": [
    "TARGET_PRODUCTS = {\n",
    "    'Credit card': ['credit card', 'prepaid card'],\n",
    "    'Personal loan': ['personal loan', 'consumer loan'],\n",
    "    'Buy Now, Pay Later': ['buy now pay later', 'bnpl'],\n",
    "    'Savings account': ['savings account', 'bank account'],\n",
    "    'Money transfer': ['money transfer', 'wire transfer']\n",
    "}\n",
    "\n",
    "def filter_products(product: str) -> str or None:\n",
    "    product = str(product).lower()\n",
    "    for standardized, variants in TARGET_PRODUCTS.items():\n",
    "        if any(variant in product for variant in variants):\n",
    "            return standardized\n",
    "    return None"
   ]
  },
  {
   "cell_type": "markdown",
   "id": "5a113375",
   "metadata": {},
   "source": [
    "## 🛠️ Main processing & EDA module"
   ]
  },
  {
   "cell_type": "code",
   "execution_count": null,
   "id": "a1eceaf4",
   "metadata": {},
   "outputs": [],
   "source": [
    "def process_complaints(\n",
    "    input_path=\"../data/raw/complaints.csv\",\n",
    "    output_path=\"../data/processed/filtered_complaints.csv\",\n",
    "    plot_dir=\"../plots\"\n",
    "):\n",
    "    Path(plot_dir).mkdir(parents=True, exist_ok=True)\n",
    "    Path(os.path.dirname(output_path)).mkdir(parents=True, exist_ok=True)\n",
    "    print(\"📊 Loading data...\")\n",
    "    df = pd.read_csv(input_path, low_memory=False)\n",
    "    print(f\"Total complaints: {len(df):,}\")\n",
    "    print(\"\\nProduct distribution (raw):\")\n",
    "    print(df['Product'].value_counts().head(10))\n",
    "    has_narrative = df['Consumer complaint narrative'].notna()\n",
    "    print(f\"\\nComplaints with narratives: {has_narrative.sum():,} ({has_narrative.mean():.1%})\")\n",
    "    print(f\"Complaints without narratives: {(~has_narrative).sum():,}\")\n",
    "    df['product'] = df['Product'].apply(filter_products)\n",
    "    df = df[df['product'].notna()]\n",
    "    df = df[df['Consumer complaint narrative'].notna()]\n",
    "    df['narrative'] = df['Consumer complaint narrative'].astype(str)\n",
    "    df['cleaned_narrative'] = df['narrative'].apply(clean_text)\n",
    "    df['word_count'] = df['cleaned_narrative'].apply(lambda x: len(x.split()))\n",
    "    df = df[(df['word_count'] > 10) & (df['word_count'] < 1000)]\n",
    "    print(f\"\\n✅ Complaints retained: {len(df):,}\")\n",
    "    print(\"\\nProduct distribution (filtered):\")\n",
    "    print(df['product'].value_counts())\n",
    "    plt.figure(figsize=(10, 5))\n",
    "    sns.histplot(df['word_count'], bins=50, kde=True)\n",
    "    plt.title(\"Distribution of Narrative Length (Words)\")\n",
    "    plt.tight_layout()\n",
    "    plt.savefig(f\"{plot_dir}/narrative_lengths.png\")\n",
    "    plt.figure(figsize=(10, 5))\n",
    "    df['product'].value_counts().plot(kind='bar', color='skyblue')\n",
    "    plt.title(\"Complaints by Product Category\")\n",
    "    plt.tight_layout()\n",
    "    plt.savefig(f\"{plot_dir}/product_distribution.png\")\n",
    "    plt.figure(figsize=(10, 5))\n",
    "    df.groupby('product')['word_count'].mean().sort_values().plot(kind='barh', color='lightgreen')\n",
    "    plt.title(\"Average Narrative Length by Product\")\n",
    "    plt.tight_layout()\n",
    "    plt.savefig(f\"{plot_dir}/mean_length_by_product.png\")\n",
    "    df.to_csv(output_path, index=False)\n",
    "    print(f\"\\n💾 Saved cleaned data to: {output_path}\")\n",
    "    return df"
   ]
  },
  {
   "cell_type": "markdown",
   "id": "cbc21f89",
   "metadata": {},
   "source": [
    "## ▶️ Run & preview cleaned data"
   ]
  },
  {
   "cell_type": "code",
   "execution_count": null,
   "id": "e6010aec",
   "metadata": {},
   "outputs": [],
   "source": [
    "df_clean = process_complaints()\n",
    "df_clean.head()"
   ]
  }
 ],
 "metadata": {},
 "nbformat": 4,
 "nbformat_minor": 5
}
